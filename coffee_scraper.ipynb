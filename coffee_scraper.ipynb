{
 "cells": [
  {
   "cell_type": "markdown",
   "metadata": {},
   "source": [
    "### Coffee Scraper\n",
    "\n",
    "The initial goal of this scraper is to navigate to individual coffee products on mistobox.com and extract and store all coffee metadata."
   ]
  },
  {
   "cell_type": "code",
   "execution_count": 1,
   "metadata": {},
   "outputs": [],
   "source": [
    "from selenium import webdriver\n",
    "\n",
    "from selenium.webdriver.common.keys import Keys\n",
    "\n",
    "import time"
   ]
  },
  {
   "cell_type": "code",
   "execution_count": 2,
   "metadata": {},
   "outputs": [],
   "source": [
    "#additional imports for wait time \n",
    "\n",
    "from selenium.webdriver.common.by import By\n",
    "from selenium.webdriver.support.ui import WebDriverWait\n",
    "from selenium.webdriver.support import expected_conditions as EC\n"
   ]
  },
  {
   "cell_type": "code",
   "execution_count": 3,
   "metadata": {},
   "outputs": [],
   "source": [
    "PATH = '/Users/robzifchak/Documents/Documents/Selenium/chromedriver'\n",
    "\n",
    "driver = webdriver.Chrome(PATH)\n",
    "\n",
    "driver.get('https://www.mistobox.com/')\n",
    "\n",
    "#shop = driver.find_elements_by_xpath('//*[@id=\"dropdownMenu1\"]')\n",
    "#shop = driver.find_element_by_id('dropdownMenu1')\n",
    "\n",
    "#shop.send_keys(Keys.RETURN)\n",
    "\n",
    "shop = driver.find_element_by_link_text('Shop')\n",
    "shop.click()\n",
    "coffee = driver.find_element_by_link_text('Coffee')\n",
    "coffee.click()\n",
    "\n",
    "coffee_1 = driver.find_element_by_class_name('coffee-result')\n",
    "coffee_1.click()\n",
    "\n",
    "# search.send_keys(Keys.RETURN)\n",
    "\n",
    "time.sleep(10)\n",
    "\n",
    "# driver.quit()"
   ]
  },
  {
   "cell_type": "markdown",
   "metadata": {},
   "source": [
    "Navigation to coffee product with automated chrome instance is working properly. \n",
    "\n",
    "Next step is to extract - (beautifulsoup?)\n",
    "\n",
    "Storage - csv, or RDS instance on AWS depending on size."
   ]
  }
 ],
 "metadata": {
  "kernelspec": {
   "display_name": "Python 3",
   "language": "python",
   "name": "python3"
  },
  "language_info": {
   "codemirror_mode": {
    "name": "ipython",
    "version": 3
   },
   "file_extension": ".py",
   "mimetype": "text/x-python",
   "name": "python",
   "nbconvert_exporter": "python",
   "pygments_lexer": "ipython3",
   "version": "3.7.4"
  }
 },
 "nbformat": 4,
 "nbformat_minor": 4
}
