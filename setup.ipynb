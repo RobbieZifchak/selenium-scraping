{
 "cells": [
  {
   "cell_type": "markdown",
   "metadata": {},
   "source": [
    "### Getting Set up"
   ]
  },
  {
   "cell_type": "markdown",
   "metadata": {},
   "source": [
    "Selenium Docs: https://selenium-python.readthedocs.io/\n",
    "\n",
    "\n",
    "download chrome webdriver that corresponds to version of google chrome\n",
    "\n",
    "https://sites.google.com/a/chromium.org/chromedriver/downloads\n",
    "    \n",
    "to identify which version of google chrome you are using,\n",
    "navigate to the three dots in the corner of browser, \n",
    "select Help > About Google Chrome\n",
    "\n",
    "Version 86.0.4240.80 (Official Build) (x86_64)\n",
    "unzip download in a directory where you want it to live\n",
    "\n",
    "make sure you've identified the file path "
   ]
  },
  {
   "cell_type": "code",
   "execution_count": null,
   "metadata": {},
   "outputs": [],
   "source": [
    "#pip install selenium\n",
    "\n",
    "#import selenium\n",
    "\n",
    "from selenium import webdriver"
   ]
  },
  {
   "cell_type": "code",
   "execution_count": 22,
   "metadata": {},
   "outputs": [
    {
     "name": "stdout",
     "output_type": "stream",
     "text": [
      "Trade Coffee | The Best Coffee Subscription in the Nation\n"
     ]
    }
   ],
   "source": [
    "#unzip download in a directory where you want it to live\n",
    "\n",
    "PATH = '/Users/robzifchak/Documents/Documents/Selenium/chromedriver'\n",
    "\n",
    "driver = webdriver.Chrome(PATH)\n",
    "\n",
    "driver.get('https://www.drinktrade.com/')\n",
    "#receiving error message about unauthorized software developer\n",
    "#need to change permissions either via  System Preferences > Security & Privacy or via terminal command.\n",
    "\n",
    "#print(driver.title)\n",
    "\n",
    "#driver.quit()"
   ]
  },
  {
   "cell_type": "code",
   "execution_count": 23,
   "metadata": {},
   "outputs": [],
   "source": [
    "from selenium.webdriver.common.keys import Keys\n",
    "\n",
    "import time"
   ]
  },
  {
   "cell_type": "markdown",
   "metadata": {},
   "source": [
    "#example from tech with tim\n",
    "\n",
    "\n",
    "**identify element for search field**\n",
    "\n",
    "search = driver.find_element_by_name('s')\n",
    "\n",
    "\n",
    "**send text to search field**\n",
    "\n",
    "search.send_keys('test')\n",
    "\n",
    "**execute query by accessing Keys Enter Key**\n",
    "\n",
    "search.send_keys(Keys.RETURN)\n",
    "\n",
    "\n",
    "for page source:\n",
    "\n",
    "print(driver.page_source)"
   ]
  },
  {
   "cell_type": "code",
   "execution_count": 26,
   "metadata": {},
   "outputs": [],
   "source": [
    "# PATH = '/Users/robzifchak/Documents/Documents/Selenium/chromedriver'\n",
    "\n",
    "# driver = webdriver.Chrome(PATH)\n",
    "\n",
    "# driver.get('https://www.drinktrade.com/')\n",
    "\n",
    "# #search = driver.find_elements_by_name('<svg xmlns=\"http://www.w3.org/2000/svg\" viewBox=\"0 0 44 44\"><path d=\"M29.594 26.082a9.643 9.643 0 00-.613-11.687c-3.447-4.055-9.53-4.548-13.585-1.1a9.637 9.637 0 00-1.1 13.586c3.446 4.056 9.528 4.549 13.584 1.1l.901 1.06 2.71 3.189.655.77\" stroke=\"#000\" stroke-width=\"1.5\" fill=\"none\" stroke-linecap=\"round\" stroke-linejoin=\"round\"></path></svg>')\n",
    "\n",
    "# search.send_keys('heart coffee')\n",
    "\n",
    "# search.send_keys(Keys.RETURN)\n",
    "\n",
    "\n",
    "# time.sleep(10)\n",
    "\n",
    "# driver.quit()"
   ]
  },
  {
   "cell_type": "code",
   "execution_count": null,
   "metadata": {},
   "outputs": [],
   "source": []
  }
 ],
 "metadata": {
  "kernelspec": {
   "display_name": "Python 3",
   "language": "python",
   "name": "python3"
  },
  "language_info": {
   "codemirror_mode": {
    "name": "ipython",
    "version": 3
   },
   "file_extension": ".py",
   "mimetype": "text/x-python",
   "name": "python",
   "nbconvert_exporter": "python",
   "pygments_lexer": "ipython3",
   "version": "3.7.4"
  }
 },
 "nbformat": 4,
 "nbformat_minor": 4
}
