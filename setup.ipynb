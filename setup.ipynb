{
 "cells": [
  {
   "cell_type": "markdown",
   "metadata": {},
   "source": [
    "### Getting Set up"
   ]
  },
  {
   "cell_type": "markdown",
   "metadata": {},
   "source": [
    "Selenium Docs: https://selenium-python.readthedocs.io/\n",
    "\n",
    "\n",
    "download chrome webdriver that corresponds to version of google chrome\n",
    "\n",
    "https://sites.google.com/a/chromium.org/chromedriver/downloads\n",
    "    \n",
    "to identify which version of google chrome you are using,\n",
    "navigate to the three dots in the corner of browser, \n",
    "select Help > About Google Chrome\n",
    "\n",
    "Version 86.0.4240.80 (Official Build) (x86_64)\n",
    "unzip download in a directory where you want it to live\n",
    "\n",
    "make sure you've identified the file path "
   ]
  },
  {
   "cell_type": "code",
   "execution_count": 1,
   "metadata": {},
   "outputs": [],
   "source": [
    "#pip install selenium\n",
    "\n",
    "#import selenium\n",
    "\n",
    "from selenium import webdriver"
   ]
  },
  {
   "cell_type": "code",
   "execution_count": 22,
   "metadata": {},
   "outputs": [
    {
     "name": "stdout",
     "output_type": "stream",
     "text": [
      "Trade Coffee | The Best Coffee Subscription in the Nation\n"
     ]
    }
   ],
   "source": [
    "#unzip download in a directory where you want it to live\n",
    "\n",
    "PATH = '/Users/robzifchak/Documents/Documents/Selenium/chromedriver'\n",
    "\n",
    "driver = webdriver.Chrome(PATH)\n",
    "\n",
    "driver.get('https://drinktrade.com/')\n",
    "#receiving error message about unauthorized software developer\n",
    "#need to change permissions either via  System Preferences > Security & Privacy or via terminal command.\n",
    "\n",
    "#print(driver.title)\n",
    "\n",
    "#driver.quit()"
   ]
  },
  {
   "cell_type": "code",
   "execution_count": 7,
   "metadata": {},
   "outputs": [],
   "source": [
    "from selenium.webdriver.common.keys import Keys\n",
    "\n",
    "import time"
   ]
  },
  {
   "cell_type": "markdown",
   "metadata": {},
   "source": [
    "#example from tech with tim\n",
    "\n",
    "\n",
    "**identify element for search field**\n",
    "\n",
    "search = driver.find_element_by_name('s')\n",
    "\n",
    "\n",
    "**send text to search field**\n",
    "\n",
    "search.send_keys('test')\n",
    "\n",
    "**execute query by accessing Keys Enter Key**\n",
    "\n",
    "search.send_keys(Keys.RETURN)\n",
    "\n",
    "\n",
    "for page source:\n",
    "\n",
    "print(driver.page_source)"
   ]
  },
  {
   "cell_type": "code",
   "execution_count": 15,
   "metadata": {},
   "outputs": [],
   "source": [
    "#additional imports for wait time \n",
    "\n",
    "from selenium.webdriver.common.by import By\n",
    "from selenium.webdriver.support.ui import WebDriverWait\n",
    "from selenium.webdriver.support import expected_conditions as EC\n"
   ]
  },
  {
   "cell_type": "code",
   "execution_count": null,
   "metadata": {},
   "outputs": [],
   "source": [
    "# #try:\n",
    "#     element = WebDriverWait(driver, 10).until(\n",
    "#         EC.presence_of_element_located((By.LINK_TEXT, 'Shop'))\n",
    "#     )\n",
    "#     element.click()\n",
    "     "
   ]
  }
 ],
 "metadata": {
  "kernelspec": {
   "display_name": "Python 3",
   "language": "python",
   "name": "python3"
  },
  "language_info": {
   "codemirror_mode": {
    "name": "ipython",
    "version": 3
   },
   "file_extension": ".py",
   "mimetype": "text/x-python",
   "name": "python",
   "nbconvert_exporter": "python",
   "pygments_lexer": "ipython3",
   "version": "3.7.4"
  }
 },
 "nbformat": 4,
 "nbformat_minor": 4
}
